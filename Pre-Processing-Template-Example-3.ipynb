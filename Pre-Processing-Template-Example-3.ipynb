{
 "cells": [
  {
   "cell_type": "code",
   "execution_count": 1,
   "metadata": {},
   "outputs": [],
   "source": [
    "#medium article: https://towardsdatascience.com/the-complete-beginners-guide-to-data-cleaning-and-preprocessing-2070b7d4c6d?gi=c5101f25cd16"
   ]
  },
  {
   "cell_type": "code",
   "execution_count": 133,
   "metadata": {},
   "outputs": [],
   "source": [
    "import numpy as np\n",
    "import matplotlib.pyplot as plt\n",
    "import pandas as pd\n",
    "from sklearn.preprocessing import Imputer\n",
    "from sklearn.preprocessing import LabelEncoder\n",
    "from sklearn.preprocessing import OneHotEncoder\n",
    "from sklearn.model_selection import train_test_split\n",
    "from sklearn.preprocessing import StandardScaler"
   ]
  },
  {
   "cell_type": "code",
   "execution_count": 134,
   "metadata": {},
   "outputs": [],
   "source": [
    "dataset = pd.read_csv('fake_data_2.csv')"
   ]
  },
  {
   "cell_type": "code",
   "execution_count": 135,
   "metadata": {},
   "outputs": [
    {
     "data": {
      "text/html": [
       "<div>\n",
       "<style scoped>\n",
       "    .dataframe tbody tr th:only-of-type {\n",
       "        vertical-align: middle;\n",
       "    }\n",
       "\n",
       "    .dataframe tbody tr th {\n",
       "        vertical-align: top;\n",
       "    }\n",
       "\n",
       "    .dataframe thead th {\n",
       "        text-align: right;\n",
       "    }\n",
       "</style>\n",
       "<table border=\"1\" class=\"dataframe\">\n",
       "  <thead>\n",
       "    <tr style=\"text-align: right;\">\n",
       "      <th></th>\n",
       "      <th>cargo</th>\n",
       "      <th>idade</th>\n",
       "      <th>salario</th>\n",
       "      <th>bonus</th>\n",
       "      <th>sócio</th>\n",
       "    </tr>\n",
       "  </thead>\n",
       "  <tbody>\n",
       "    <tr>\n",
       "      <th>0</th>\n",
       "      <td>Diretor</td>\n",
       "      <td>45</td>\n",
       "      <td>24000.0</td>\n",
       "      <td>10000.0</td>\n",
       "      <td>sim</td>\n",
       "    </tr>\n",
       "    <tr>\n",
       "      <th>1</th>\n",
       "      <td>Analista</td>\n",
       "      <td>22</td>\n",
       "      <td>8000.0</td>\n",
       "      <td>2000.0</td>\n",
       "      <td>não</td>\n",
       "    </tr>\n",
       "    <tr>\n",
       "      <th>2</th>\n",
       "      <td>Programador</td>\n",
       "      <td>30</td>\n",
       "      <td>NaN</td>\n",
       "      <td>1000.0</td>\n",
       "      <td>não</td>\n",
       "    </tr>\n",
       "    <tr>\n",
       "      <th>3</th>\n",
       "      <td>Gerente</td>\n",
       "      <td>24</td>\n",
       "      <td>15100.0</td>\n",
       "      <td>NaN</td>\n",
       "      <td>não</td>\n",
       "    </tr>\n",
       "    <tr>\n",
       "      <th>4</th>\n",
       "      <td>Gerente</td>\n",
       "      <td>30</td>\n",
       "      <td>35000.0</td>\n",
       "      <td>6000.0</td>\n",
       "      <td>sim</td>\n",
       "    </tr>\n",
       "    <tr>\n",
       "      <th>5</th>\n",
       "      <td>Programador</td>\n",
       "      <td>22</td>\n",
       "      <td>5300.0</td>\n",
       "      <td>2000.0</td>\n",
       "      <td>não</td>\n",
       "    </tr>\n",
       "    <tr>\n",
       "      <th>6</th>\n",
       "      <td>Analista</td>\n",
       "      <td>20</td>\n",
       "      <td>NaN</td>\n",
       "      <td>1200.0</td>\n",
       "      <td>não</td>\n",
       "    </tr>\n",
       "    <tr>\n",
       "      <th>7</th>\n",
       "      <td>Diretor</td>\n",
       "      <td>50</td>\n",
       "      <td>18000.0</td>\n",
       "      <td>8000.0</td>\n",
       "      <td>sim</td>\n",
       "    </tr>\n",
       "    <tr>\n",
       "      <th>8</th>\n",
       "      <td>Fundador</td>\n",
       "      <td>65</td>\n",
       "      <td>38000.0</td>\n",
       "      <td>28000.0</td>\n",
       "      <td>sim</td>\n",
       "    </tr>\n",
       "    <tr>\n",
       "      <th>9</th>\n",
       "      <td>Analista</td>\n",
       "      <td>32</td>\n",
       "      <td>7300.0</td>\n",
       "      <td>4000.0</td>\n",
       "      <td>não</td>\n",
       "    </tr>\n",
       "    <tr>\n",
       "      <th>10</th>\n",
       "      <td>Programador</td>\n",
       "      <td>35</td>\n",
       "      <td>2344.0</td>\n",
       "      <td>NaN</td>\n",
       "      <td>não</td>\n",
       "    </tr>\n",
       "    <tr>\n",
       "      <th>11</th>\n",
       "      <td>Programador</td>\n",
       "      <td>28</td>\n",
       "      <td>4500.0</td>\n",
       "      <td>2200.0</td>\n",
       "      <td>não</td>\n",
       "    </tr>\n",
       "    <tr>\n",
       "      <th>12</th>\n",
       "      <td>Fundador</td>\n",
       "      <td>28</td>\n",
       "      <td>30000.0</td>\n",
       "      <td>12000.0</td>\n",
       "      <td>sim</td>\n",
       "    </tr>\n",
       "    <tr>\n",
       "      <th>13</th>\n",
       "      <td>Programador</td>\n",
       "      <td>30</td>\n",
       "      <td>14000.0</td>\n",
       "      <td>10000.0</td>\n",
       "      <td>sim</td>\n",
       "    </tr>\n",
       "  </tbody>\n",
       "</table>\n",
       "</div>"
      ],
      "text/plain": [
       "          cargo  idade  salario    bonus sócio\n",
       "0       Diretor     45  24000.0  10000.0   sim\n",
       "1      Analista     22   8000.0   2000.0   não\n",
       "2   Programador     30      NaN   1000.0   não\n",
       "3       Gerente     24  15100.0      NaN   não\n",
       "4       Gerente     30  35000.0   6000.0   sim\n",
       "5   Programador     22   5300.0   2000.0   não\n",
       "6      Analista     20      NaN   1200.0   não\n",
       "7       Diretor     50  18000.0   8000.0   sim\n",
       "8      Fundador     65  38000.0  28000.0   sim\n",
       "9      Analista     32   7300.0   4000.0   não\n",
       "10  Programador     35   2344.0      NaN   não\n",
       "11  Programador     28   4500.0   2200.0   não\n",
       "12     Fundador     28  30000.0  12000.0   sim\n",
       "13  Programador     30  14000.0  10000.0   sim"
      ]
     },
     "execution_count": 135,
     "metadata": {},
     "output_type": "execute_result"
    }
   ],
   "source": [
    "dataset.head(30)"
   ]
  },
  {
   "cell_type": "code",
   "execution_count": 136,
   "metadata": {},
   "outputs": [],
   "source": [
    "X = dataset.iloc[:, :-1].values\n",
    "Y = dataset.iloc[:, 4].values"
   ]
  },
  {
   "cell_type": "code",
   "execution_count": 137,
   "metadata": {},
   "outputs": [
    {
     "name": "stderr",
     "output_type": "stream",
     "text": [
      "/usr/local/lib/python3.6/dist-packages/sklearn/utils/deprecation.py:58: DeprecationWarning: Class Imputer is deprecated; Imputer was deprecated in version 0.20 and will be removed in 0.22. Import impute.SimpleImputer from sklearn instead.\n",
      "  warnings.warn(msg, category=DeprecationWarning)\n"
     ]
    }
   ],
   "source": [
    "imputer = Imputer(missing_values = np.nan, strategy = 'mean', axis = 0) #This will handle missing data with the mean of the column"
   ]
  },
  {
   "cell_type": "code",
   "execution_count": 138,
   "metadata": {},
   "outputs": [
    {
     "data": {
      "text/plain": [
       "array([[24000.0, 10000.0],\n",
       "       [8000.0, 2000.0],\n",
       "       [nan, 1000.0],\n",
       "       [15100.0, nan],\n",
       "       [35000.0, 6000.0],\n",
       "       [5300.0, 2000.0],\n",
       "       [nan, 1200.0],\n",
       "       [18000.0, 8000.0],\n",
       "       [38000.0, 28000.0],\n",
       "       [7300.0, 4000.0],\n",
       "       [2344.0, nan],\n",
       "       [4500.0, 2200.0],\n",
       "       [30000.0, 12000.0],\n",
       "       [14000.0, 10000.0]], dtype=object)"
      ]
     },
     "execution_count": 138,
     "metadata": {},
     "output_type": "execute_result"
    }
   ],
   "source": [
    "X[:, 2:4]"
   ]
  },
  {
   "cell_type": "code",
   "execution_count": 139,
   "metadata": {},
   "outputs": [],
   "source": [
    "imputer = imputer.fit(X[:, 2:4]) #put only the columns with possible missing data"
   ]
  },
  {
   "cell_type": "code",
   "execution_count": 140,
   "metadata": {},
   "outputs": [],
   "source": [
    "X[:, 2:4] = imputer.transform(X[:, 2:4]) #put only the columns with possible missing data"
   ]
  },
  {
   "cell_type": "code",
   "execution_count": 141,
   "metadata": {},
   "outputs": [
    {
     "data": {
      "text/plain": [
       "array([['Diretor', 45, 24000.0, 10000.0],\n",
       "       ['Analista', 22, 8000.0, 2000.0],\n",
       "       ['Programador', 30, 16795.333333333332, 1000.0],\n",
       "       ['Gerente', 24, 15100.0, 7200.0],\n",
       "       ['Gerente', 30, 35000.0, 6000.0],\n",
       "       ['Programador', 22, 5300.0, 2000.0],\n",
       "       ['Analista', 20, 16795.333333333332, 1200.0],\n",
       "       ['Diretor', 50, 18000.0, 8000.0],\n",
       "       ['Fundador', 65, 38000.0, 28000.0],\n",
       "       ['Analista', 32, 7300.0, 4000.0],\n",
       "       ['Programador', 35, 2344.0, 7200.0],\n",
       "       ['Programador', 28, 4500.0, 2200.0],\n",
       "       ['Fundador', 28, 30000.0, 12000.0],\n",
       "       ['Programador', 30, 14000.0, 10000.0]], dtype=object)"
      ]
     },
     "execution_count": 141,
     "metadata": {},
     "output_type": "execute_result"
    }
   ],
   "source": [
    "X"
   ]
  },
  {
   "cell_type": "code",
   "execution_count": 142,
   "metadata": {},
   "outputs": [],
   "source": [
    "labelencoder_X = LabelEncoder() #labelEnconder will transform categorical values in numbers\n",
    "X[:, 0] = labelencoder_X.fit_transform(X[:, 0])"
   ]
  },
  {
   "cell_type": "code",
   "execution_count": 143,
   "metadata": {},
   "outputs": [
    {
     "data": {
      "text/plain": [
       "array([[1, 45, 24000.0, 10000.0],\n",
       "       [0, 22, 8000.0, 2000.0],\n",
       "       [4, 30, 16795.333333333332, 1000.0],\n",
       "       [3, 24, 15100.0, 7200.0],\n",
       "       [3, 30, 35000.0, 6000.0],\n",
       "       [4, 22, 5300.0, 2000.0],\n",
       "       [0, 20, 16795.333333333332, 1200.0],\n",
       "       [1, 50, 18000.0, 8000.0],\n",
       "       [2, 65, 38000.0, 28000.0],\n",
       "       [0, 32, 7300.0, 4000.0],\n",
       "       [4, 35, 2344.0, 7200.0],\n",
       "       [4, 28, 4500.0, 2200.0],\n",
       "       [2, 28, 30000.0, 12000.0],\n",
       "       [4, 30, 14000.0, 10000.0]], dtype=object)"
      ]
     },
     "execution_count": 143,
     "metadata": {},
     "output_type": "execute_result"
    }
   ],
   "source": [
    "X"
   ]
  },
  {
   "cell_type": "code",
   "execution_count": 144,
   "metadata": {},
   "outputs": [],
   "source": [
    "onehotencoder = OneHotEncoder(categorical_features = [0]) #this wiil transform this values in columns"
   ]
  },
  {
   "cell_type": "code",
   "execution_count": 145,
   "metadata": {},
   "outputs": [
    {
     "name": "stderr",
     "output_type": "stream",
     "text": [
      "/usr/local/lib/python3.6/dist-packages/sklearn/preprocessing/_encoders.py:363: FutureWarning: The handling of integer data will change in version 0.22. Currently, the categories are determined based on the range [0, max(values)], while in the future they will be determined based on the unique values.\n",
      "If you want the future behaviour and silence this warning, you can specify \"categories='auto'\".\n",
      "In case you used a LabelEncoder before this OneHotEncoder to convert the categories to integers, then you can now use the OneHotEncoder directly.\n",
      "  warnings.warn(msg, FutureWarning)\n",
      "/usr/local/lib/python3.6/dist-packages/sklearn/preprocessing/_encoders.py:385: DeprecationWarning: The 'categorical_features' keyword is deprecated in version 0.20 and will be removed in 0.22. You can use the ColumnTransformer instead.\n",
      "  \"use the ColumnTransformer instead.\", DeprecationWarning)\n"
     ]
    }
   ],
   "source": [
    "X = onehotencoder.fit_transform(X).toarray()"
   ]
  },
  {
   "cell_type": "code",
   "execution_count": 109,
   "metadata": {},
   "outputs": [
    {
     "data": {
      "text/plain": [
       "array([[0.00000000e+00, 1.00000000e+00, 0.00000000e+00, 0.00000000e+00,\n",
       "        0.00000000e+00, 4.50000000e+01, 2.40000000e+04, 1.00000000e+04],\n",
       "       [1.00000000e+00, 0.00000000e+00, 0.00000000e+00, 0.00000000e+00,\n",
       "        0.00000000e+00, 2.20000000e+01, 8.00000000e+03, 2.00000000e+03],\n",
       "       [0.00000000e+00, 0.00000000e+00, 0.00000000e+00, 0.00000000e+00,\n",
       "        1.00000000e+00, 3.00000000e+01, 1.67953333e+04, 1.00000000e+03],\n",
       "       [0.00000000e+00, 0.00000000e+00, 0.00000000e+00, 1.00000000e+00,\n",
       "        0.00000000e+00, 2.40000000e+01, 1.51000000e+04, 7.20000000e+03],\n",
       "       [0.00000000e+00, 0.00000000e+00, 0.00000000e+00, 1.00000000e+00,\n",
       "        0.00000000e+00, 3.00000000e+01, 3.50000000e+04, 6.00000000e+03],\n",
       "       [0.00000000e+00, 0.00000000e+00, 0.00000000e+00, 0.00000000e+00,\n",
       "        1.00000000e+00, 2.20000000e+01, 5.30000000e+03, 2.00000000e+03],\n",
       "       [1.00000000e+00, 0.00000000e+00, 0.00000000e+00, 0.00000000e+00,\n",
       "        0.00000000e+00, 2.00000000e+01, 1.67953333e+04, 1.20000000e+03],\n",
       "       [0.00000000e+00, 1.00000000e+00, 0.00000000e+00, 0.00000000e+00,\n",
       "        0.00000000e+00, 5.00000000e+01, 1.80000000e+04, 8.00000000e+03],\n",
       "       [0.00000000e+00, 0.00000000e+00, 1.00000000e+00, 0.00000000e+00,\n",
       "        0.00000000e+00, 6.50000000e+01, 3.80000000e+04, 2.80000000e+04],\n",
       "       [1.00000000e+00, 0.00000000e+00, 0.00000000e+00, 0.00000000e+00,\n",
       "        0.00000000e+00, 3.20000000e+01, 7.30000000e+03, 4.00000000e+03],\n",
       "       [0.00000000e+00, 0.00000000e+00, 0.00000000e+00, 0.00000000e+00,\n",
       "        1.00000000e+00, 3.50000000e+01, 2.34400000e+03, 7.20000000e+03],\n",
       "       [0.00000000e+00, 0.00000000e+00, 0.00000000e+00, 0.00000000e+00,\n",
       "        1.00000000e+00, 2.80000000e+01, 4.50000000e+03, 2.20000000e+03],\n",
       "       [0.00000000e+00, 0.00000000e+00, 1.00000000e+00, 0.00000000e+00,\n",
       "        0.00000000e+00, 2.80000000e+01, 3.00000000e+04, 1.20000000e+04],\n",
       "       [0.00000000e+00, 0.00000000e+00, 0.00000000e+00, 0.00000000e+00,\n",
       "        1.00000000e+00, 3.00000000e+01, 1.40000000e+04, 1.00000000e+04]])"
      ]
     },
     "execution_count": 109,
     "metadata": {},
     "output_type": "execute_result"
    }
   ],
   "source": [
    "X"
   ]
  },
  {
   "cell_type": "code",
   "execution_count": 154,
   "metadata": {},
   "outputs": [],
   "source": [
    "X_copy = pd.DataFrame({'cargo_diretor':X[:,0], 'cargo_analista':X[:,1], 'cargo_programador':X[:,2], \n",
    "                      'cargo_gerente':X[:,3], 'cargo_fundador':X[:,4], 'idade':X[:,5], 'salario':X[:,6], \n",
    "                       'bonus':X[:,7]})"
   ]
  },
  {
   "cell_type": "code",
   "execution_count": 155,
   "metadata": {},
   "outputs": [],
   "source": [
    "labelencoder_y = LabelEncoder()\n",
    "Y = labelencoder_y.fit_transform(Y) #lets go transform yes and no now"
   ]
  },
  {
   "cell_type": "code",
   "execution_count": 156,
   "metadata": {},
   "outputs": [
    {
     "data": {
      "text/plain": [
       "array([1, 0, 0, 0, 1, 0, 0, 1, 1, 0, 0, 0, 1, 1])"
      ]
     },
     "execution_count": 156,
     "metadata": {},
     "output_type": "execute_result"
    }
   ],
   "source": [
    "Y"
   ]
  },
  {
   "cell_type": "code",
   "execution_count": 157,
   "metadata": {},
   "outputs": [
    {
     "data": {
      "text/html": [
       "<div>\n",
       "<style scoped>\n",
       "    .dataframe tbody tr th:only-of-type {\n",
       "        vertical-align: middle;\n",
       "    }\n",
       "\n",
       "    .dataframe tbody tr th {\n",
       "        vertical-align: top;\n",
       "    }\n",
       "\n",
       "    .dataframe thead th {\n",
       "        text-align: right;\n",
       "    }\n",
       "</style>\n",
       "<table border=\"1\" class=\"dataframe\">\n",
       "  <thead>\n",
       "    <tr style=\"text-align: right;\">\n",
       "      <th></th>\n",
       "      <th>cargo_diretor</th>\n",
       "      <th>cargo_analista</th>\n",
       "      <th>cargo_programador</th>\n",
       "      <th>cargo_gerente</th>\n",
       "      <th>cargo_fundador</th>\n",
       "      <th>idade</th>\n",
       "      <th>salario</th>\n",
       "      <th>bonus</th>\n",
       "    </tr>\n",
       "  </thead>\n",
       "  <tbody>\n",
       "    <tr>\n",
       "      <th>0</th>\n",
       "      <td>0.0</td>\n",
       "      <td>1.0</td>\n",
       "      <td>0.0</td>\n",
       "      <td>0.0</td>\n",
       "      <td>0.0</td>\n",
       "      <td>45.0</td>\n",
       "      <td>24000.000000</td>\n",
       "      <td>10000.0</td>\n",
       "    </tr>\n",
       "    <tr>\n",
       "      <th>1</th>\n",
       "      <td>1.0</td>\n",
       "      <td>0.0</td>\n",
       "      <td>0.0</td>\n",
       "      <td>0.0</td>\n",
       "      <td>0.0</td>\n",
       "      <td>22.0</td>\n",
       "      <td>8000.000000</td>\n",
       "      <td>2000.0</td>\n",
       "    </tr>\n",
       "    <tr>\n",
       "      <th>2</th>\n",
       "      <td>0.0</td>\n",
       "      <td>0.0</td>\n",
       "      <td>0.0</td>\n",
       "      <td>0.0</td>\n",
       "      <td>1.0</td>\n",
       "      <td>30.0</td>\n",
       "      <td>16795.333333</td>\n",
       "      <td>1000.0</td>\n",
       "    </tr>\n",
       "    <tr>\n",
       "      <th>3</th>\n",
       "      <td>0.0</td>\n",
       "      <td>0.0</td>\n",
       "      <td>0.0</td>\n",
       "      <td>1.0</td>\n",
       "      <td>0.0</td>\n",
       "      <td>24.0</td>\n",
       "      <td>15100.000000</td>\n",
       "      <td>7200.0</td>\n",
       "    </tr>\n",
       "    <tr>\n",
       "      <th>4</th>\n",
       "      <td>0.0</td>\n",
       "      <td>0.0</td>\n",
       "      <td>0.0</td>\n",
       "      <td>1.0</td>\n",
       "      <td>0.0</td>\n",
       "      <td>30.0</td>\n",
       "      <td>35000.000000</td>\n",
       "      <td>6000.0</td>\n",
       "    </tr>\n",
       "    <tr>\n",
       "      <th>5</th>\n",
       "      <td>0.0</td>\n",
       "      <td>0.0</td>\n",
       "      <td>0.0</td>\n",
       "      <td>0.0</td>\n",
       "      <td>1.0</td>\n",
       "      <td>22.0</td>\n",
       "      <td>5300.000000</td>\n",
       "      <td>2000.0</td>\n",
       "    </tr>\n",
       "    <tr>\n",
       "      <th>6</th>\n",
       "      <td>1.0</td>\n",
       "      <td>0.0</td>\n",
       "      <td>0.0</td>\n",
       "      <td>0.0</td>\n",
       "      <td>0.0</td>\n",
       "      <td>20.0</td>\n",
       "      <td>16795.333333</td>\n",
       "      <td>1200.0</td>\n",
       "    </tr>\n",
       "    <tr>\n",
       "      <th>7</th>\n",
       "      <td>0.0</td>\n",
       "      <td>1.0</td>\n",
       "      <td>0.0</td>\n",
       "      <td>0.0</td>\n",
       "      <td>0.0</td>\n",
       "      <td>50.0</td>\n",
       "      <td>18000.000000</td>\n",
       "      <td>8000.0</td>\n",
       "    </tr>\n",
       "    <tr>\n",
       "      <th>8</th>\n",
       "      <td>0.0</td>\n",
       "      <td>0.0</td>\n",
       "      <td>1.0</td>\n",
       "      <td>0.0</td>\n",
       "      <td>0.0</td>\n",
       "      <td>65.0</td>\n",
       "      <td>38000.000000</td>\n",
       "      <td>28000.0</td>\n",
       "    </tr>\n",
       "    <tr>\n",
       "      <th>9</th>\n",
       "      <td>1.0</td>\n",
       "      <td>0.0</td>\n",
       "      <td>0.0</td>\n",
       "      <td>0.0</td>\n",
       "      <td>0.0</td>\n",
       "      <td>32.0</td>\n",
       "      <td>7300.000000</td>\n",
       "      <td>4000.0</td>\n",
       "    </tr>\n",
       "    <tr>\n",
       "      <th>10</th>\n",
       "      <td>0.0</td>\n",
       "      <td>0.0</td>\n",
       "      <td>0.0</td>\n",
       "      <td>0.0</td>\n",
       "      <td>1.0</td>\n",
       "      <td>35.0</td>\n",
       "      <td>2344.000000</td>\n",
       "      <td>7200.0</td>\n",
       "    </tr>\n",
       "    <tr>\n",
       "      <th>11</th>\n",
       "      <td>0.0</td>\n",
       "      <td>0.0</td>\n",
       "      <td>0.0</td>\n",
       "      <td>0.0</td>\n",
       "      <td>1.0</td>\n",
       "      <td>28.0</td>\n",
       "      <td>4500.000000</td>\n",
       "      <td>2200.0</td>\n",
       "    </tr>\n",
       "    <tr>\n",
       "      <th>12</th>\n",
       "      <td>0.0</td>\n",
       "      <td>0.0</td>\n",
       "      <td>1.0</td>\n",
       "      <td>0.0</td>\n",
       "      <td>0.0</td>\n",
       "      <td>28.0</td>\n",
       "      <td>30000.000000</td>\n",
       "      <td>12000.0</td>\n",
       "    </tr>\n",
       "    <tr>\n",
       "      <th>13</th>\n",
       "      <td>0.0</td>\n",
       "      <td>0.0</td>\n",
       "      <td>0.0</td>\n",
       "      <td>0.0</td>\n",
       "      <td>1.0</td>\n",
       "      <td>30.0</td>\n",
       "      <td>14000.000000</td>\n",
       "      <td>10000.0</td>\n",
       "    </tr>\n",
       "  </tbody>\n",
       "</table>\n",
       "</div>"
      ],
      "text/plain": [
       "    cargo_diretor  cargo_analista  cargo_programador  cargo_gerente  \\\n",
       "0             0.0             1.0                0.0            0.0   \n",
       "1             1.0             0.0                0.0            0.0   \n",
       "2             0.0             0.0                0.0            0.0   \n",
       "3             0.0             0.0                0.0            1.0   \n",
       "4             0.0             0.0                0.0            1.0   \n",
       "5             0.0             0.0                0.0            0.0   \n",
       "6             1.0             0.0                0.0            0.0   \n",
       "7             0.0             1.0                0.0            0.0   \n",
       "8             0.0             0.0                1.0            0.0   \n",
       "9             1.0             0.0                0.0            0.0   \n",
       "10            0.0             0.0                0.0            0.0   \n",
       "11            0.0             0.0                0.0            0.0   \n",
       "12            0.0             0.0                1.0            0.0   \n",
       "13            0.0             0.0                0.0            0.0   \n",
       "\n",
       "    cargo_fundador  idade       salario    bonus  \n",
       "0              0.0   45.0  24000.000000  10000.0  \n",
       "1              0.0   22.0   8000.000000   2000.0  \n",
       "2              1.0   30.0  16795.333333   1000.0  \n",
       "3              0.0   24.0  15100.000000   7200.0  \n",
       "4              0.0   30.0  35000.000000   6000.0  \n",
       "5              1.0   22.0   5300.000000   2000.0  \n",
       "6              0.0   20.0  16795.333333   1200.0  \n",
       "7              0.0   50.0  18000.000000   8000.0  \n",
       "8              0.0   65.0  38000.000000  28000.0  \n",
       "9              0.0   32.0   7300.000000   4000.0  \n",
       "10             1.0   35.0   2344.000000   7200.0  \n",
       "11             1.0   28.0   4500.000000   2200.0  \n",
       "12             0.0   28.0  30000.000000  12000.0  \n",
       "13             1.0   30.0  14000.000000  10000.0  "
      ]
     },
     "execution_count": 157,
     "metadata": {},
     "output_type": "execute_result"
    }
   ],
   "source": [
    "X_copy"
   ]
  },
  {
   "cell_type": "code",
   "execution_count": null,
   "metadata": {},
   "outputs": [],
   "source": []
  }
 ],
 "metadata": {
  "kernelspec": {
   "display_name": "Python 3",
   "language": "python",
   "name": "python3"
  },
  "language_info": {
   "codemirror_mode": {
    "name": "ipython",
    "version": 3
   },
   "file_extension": ".py",
   "mimetype": "text/x-python",
   "name": "python",
   "nbconvert_exporter": "python",
   "pygments_lexer": "ipython3",
   "version": "3.6.7"
  }
 },
 "nbformat": 4,
 "nbformat_minor": 2
}
